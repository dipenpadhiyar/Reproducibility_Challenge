{
 "cells": [
  {
   "cell_type": "code",
   "execution_count": 3,
   "metadata": {},
   "outputs": [
    {
     "data": {
      "text/plain": [
       "'Adapted from https://www.kaggle.com/arunmohan003/sentiment-analysis-using-lstm-pytorch and https://github.com/piEsposito/pytorch-lstm-by-hand'"
      ]
     },
     "execution_count": 3,
     "metadata": {},
     "output_type": "execute_result"
    }
   ],
   "source": [
    "'''Adapted from https://www.kaggle.com/arunmohan003/sentiment-analysis-using-lstm-pytorch and https://github.com/piEsposito/pytorch-lstm-by-hand'''"
   ]
  },
  {
   "source": [
    "'''IMDB Reviews Dataset downloaded from https://www.kaggle.com/lakshmi25npathi/imdb-dataset-of-50k-movie-reviews'''"
   ],
   "cell_type": "code",
   "metadata": {},
   "execution_count": null,
   "outputs": []
  },
  {
   "cell_type": "code",
   "execution_count": 1,
   "metadata": {},
   "outputs": [
    {
     "name": "stderr",
     "output_type": "stream",
     "text": [
      "[nltk_data] Downloading package stopwords to\n",
      "[nltk_data]     C:\\Users\\mayur\\AppData\\Roaming\\nltk_data...\n",
      "[nltk_data]   Package stopwords is already up-to-date!\n"
     ]
    }
   ],
   "source": [
    "import numpy as np\n",
    "import pandas as pd\n",
    "import torch\n",
    "import torch.nn as nn\n",
    "import torch.nn.functional as F\n",
    "import nltk\n",
    "nltk.download('stopwords')\n",
    "from nltk.corpus import stopwords \n",
    "from collections import Counter\n",
    "import string\n",
    "import re\n",
    "from tqdm import tqdm\n",
    "import matplotlib.pyplot as plt\n",
    "from torch.utils.data import TensorDataset, DataLoader\n",
    "from sklearn.model_selection import train_test_split\n",
    "from utils import ensure_reproducibility, snake_func\n",
    "import math\n",
    "from sklearn import metrics"
   ]
  },
  {
   "cell_type": "code",
   "execution_count": 2,
   "metadata": {},
   "outputs": [],
   "source": [
    "ensure_reproducibility(42)"
   ]
  },
  {
   "cell_type": "code",
   "execution_count": 3,
   "metadata": {},
   "outputs": [],
   "source": [
    "device = \"cuda\" if torch.cuda.is_available() else \"cpu\""
   ]
  },
  {
   "cell_type": "code",
   "execution_count": 4,
   "metadata": {},
   "outputs": [
    {
     "data": {
      "text/html": [
       "<div>\n",
       "<style scoped>\n",
       "    .dataframe tbody tr th:only-of-type {\n",
       "        vertical-align: middle;\n",
       "    }\n",
       "\n",
       "    .dataframe tbody tr th {\n",
       "        vertical-align: top;\n",
       "    }\n",
       "\n",
       "    .dataframe thead th {\n",
       "        text-align: right;\n",
       "    }\n",
       "</style>\n",
       "<table border=\"1\" class=\"dataframe\">\n",
       "  <thead>\n",
       "    <tr style=\"text-align: right;\">\n",
       "      <th></th>\n",
       "      <th>review</th>\n",
       "      <th>sentiment</th>\n",
       "    </tr>\n",
       "  </thead>\n",
       "  <tbody>\n",
       "    <tr>\n",
       "      <th>0</th>\n",
       "      <td>One of the other reviewers has mentioned that ...</td>\n",
       "      <td>positive</td>\n",
       "    </tr>\n",
       "    <tr>\n",
       "      <th>1</th>\n",
       "      <td>A wonderful little production. &lt;br /&gt;&lt;br /&gt;The...</td>\n",
       "      <td>positive</td>\n",
       "    </tr>\n",
       "    <tr>\n",
       "      <th>2</th>\n",
       "      <td>I thought this was a wonderful way to spend ti...</td>\n",
       "      <td>positive</td>\n",
       "    </tr>\n",
       "    <tr>\n",
       "      <th>3</th>\n",
       "      <td>Basically there's a family where a little boy ...</td>\n",
       "      <td>negative</td>\n",
       "    </tr>\n",
       "    <tr>\n",
       "      <th>4</th>\n",
       "      <td>Petter Mattei's \"Love in the Time of Money\" is...</td>\n",
       "      <td>positive</td>\n",
       "    </tr>\n",
       "  </tbody>\n",
       "</table>\n",
       "</div>"
      ],
      "text/plain": [
       "                                              review sentiment\n",
       "0  One of the other reviewers has mentioned that ...  positive\n",
       "1  A wonderful little production. <br /><br />The...  positive\n",
       "2  I thought this was a wonderful way to spend ti...  positive\n",
       "3  Basically there's a family where a little boy ...  negative\n",
       "4  Petter Mattei's \"Love in the Time of Money\" is...  positive"
      ]
     },
     "execution_count": 4,
     "metadata": {},
     "output_type": "execute_result"
    }
   ],
   "source": [
    "base_csv = 'data/IMDB Dataset.csv'\n",
    "df = pd.read_csv(base_csv)\n",
    "df.head()"
   ]
  },
  {
   "cell_type": "code",
   "execution_count": 5,
   "metadata": {},
   "outputs": [
    {
     "name": "stdout",
     "output_type": "stream",
     "text": [
      "Shape of training data is (37500,)\n",
      "Shape of test data is (12500,)\n"
     ]
    }
   ],
   "source": [
    "X,y = df['review'].values, df['sentiment'].values\n",
    "X_train, X_test, y_train, y_test = train_test_split(X, y, stratify=y)\n",
    "print(f'Shape of training data is {X_train.shape}')\n",
    "print(f'Shape of test data is {X_test.shape}')"
   ]
  },
  {
   "cell_type": "code",
   "execution_count": 6,
   "metadata": {},
   "outputs": [],
   "source": [
    "def preprocess_string(s):\n",
    "    # Remove all non-word characters (everything except numbers and letters)\n",
    "    s = re.sub(r\"[^\\w\\s]\", '', s)\n",
    "    # Replace all runs of whitespaces with no space\n",
    "    s = re.sub(r\"\\s+\", '', s)\n",
    "    # replace digits with no space\n",
    "    s = re.sub(r\"\\d\", '', s)\n",
    "    return s"
   ]
  },
  {
   "cell_type": "code",
   "execution_count": 7,
   "metadata": {},
   "outputs": [],
   "source": [
    "def tokenize(X_train, y_train, X_test, y_test):\n",
    "    word_list = []\n",
    "\n",
    "    stop_words = set(stopwords.words('english')) \n",
    "    for sent in X_train:\n",
    "        for word in sent.lower().split():\n",
    "            word = preprocess_string(word)\n",
    "            if word not in stop_words and word != '':\n",
    "                word_list.append(word)\n",
    "  \n",
    "    corpus = Counter(word_list)\n",
    "    # sorting on the basis of most common words\n",
    "    corpus_ = sorted(corpus,key=corpus.get,reverse=True)[:1000]\n",
    "    # creating a dict\n",
    "    onehot_dict = {w:i+1 for i,w in enumerate(corpus_)}\n",
    "    \n",
    "    # tokkenize\n",
    "    final_list_train, final_list_test = [],[]\n",
    "    for sent in X_train:\n",
    "            final_list_train.append([onehot_dict[preprocess_string(word)] for word in sent.lower().split() \n",
    "                                     if preprocess_string(word) in onehot_dict.keys()])\n",
    "    for sent in X_test:\n",
    "            final_list_test.append([onehot_dict[preprocess_string(word)] for word in sent.lower().split() \n",
    "                                    if preprocess_string(word) in onehot_dict.keys()])\n",
    "            \n",
    "    encoded_train = [1 if label =='positive' else 0 for label in y_train]  \n",
    "    encoded_test = [1 if label =='positive' else 0 for label in y_test] \n",
    "    return np.array(final_list_train), np.array(encoded_train), np.array(final_list_test), np.array(encoded_test), onehot_dict"
   ]
  },
  {
   "cell_type": "code",
   "execution_count": 8,
   "metadata": {},
   "outputs": [],
   "source": [
    "X_train, y_train, X_test, y_test, vocab = tokenize(X_train, y_train, X_test,y_test)"
   ]
  },
  {
   "cell_type": "code",
   "execution_count": 9,
   "metadata": {},
   "outputs": [
    {
     "name": "stdout",
     "output_type": "stream",
     "text": [
      "Size of vocabulary is 1000\n"
     ]
    }
   ],
   "source": [
    "print(f'Size of vocabulary is {len(vocab)}')"
   ]
  },
  {
   "cell_type": "code",
   "execution_count": 10,
   "metadata": {},
   "outputs": [],
   "source": [
    "def padding_(sentences, seq_len):\n",
    "    features = np.zeros((len(sentences), seq_len),dtype=int)\n",
    "    for ii, review in enumerate(sentences):\n",
    "        if len(review) != 0:\n",
    "            features[ii, -len(review):] = np.array(review)[:seq_len]\n",
    "    return features"
   ]
  },
  {
   "cell_type": "code",
   "execution_count": 11,
   "metadata": {},
   "outputs": [],
   "source": [
    "X_train_pad = padding_(X_train, 500)\n",
    "X_test_pad = padding_(X_test, 500)"
   ]
  },
  {
   "cell_type": "code",
   "execution_count": 12,
   "metadata": {},
   "outputs": [],
   "source": [
    "train_data = TensorDataset(torch.from_numpy(X_train_pad), torch.from_numpy(y_train))\n",
    "test_data = TensorDataset(torch.from_numpy(X_test_pad), torch.from_numpy(y_test))\n",
    "\n",
    "# dataloaders\n",
    "batch_size = 64\n",
    "\n",
    "# make sure to SHUFFLE your data\n",
    "train_loader = DataLoader(train_data, shuffle=True, batch_size=batch_size)\n",
    "test_loader = DataLoader(test_data, shuffle=True, batch_size=batch_size)"
   ]
  },
  {
   "cell_type": "code",
   "execution_count": 13,
   "metadata": {},
   "outputs": [
    {
     "name": "stdout",
     "output_type": "stream",
     "text": [
      "Sample input size:  torch.Size([64, 500])\n",
      "Sample input: \n",
      " tensor([[  0,   0,   0,  ..., 171,  89, 882],\n",
      "        [  0,   0,   0,  ..., 200, 460, 253],\n",
      "        [  0,   0,   0,  ..., 648,  14,   2],\n",
      "        ...,\n",
      "        [  0,   0,   0,  ...,   5,   1,  22],\n",
      "        [  0,   0,   0,  ...,  98, 305,   8],\n",
      "        [  0,   0,   0,  ...,  56, 197, 537]], dtype=torch.int32)\n",
      "Sample input: \n",
      " tensor([1, 1, 1, 1, 1, 0, 0, 1, 0, 0, 1, 0, 0, 0, 1, 0, 0, 0, 0, 0, 1, 0, 1, 1,\n",
      "        0, 1, 0, 0, 1, 0, 0, 1, 0, 0, 0, 1, 1, 1, 1, 1, 0, 1, 1, 1, 0, 0, 1, 1,\n",
      "        0, 0, 0, 1, 1, 1, 1, 0, 0, 0, 0, 1, 0, 0, 0, 0], dtype=torch.int32)\n"
     ]
    }
   ],
   "source": [
    "dataiter = iter(train_loader)\n",
    "sample_x, sample_y = dataiter.next()\n",
    "\n",
    "print('Sample input size: ', sample_x.size()) # batch_size, seq_length\n",
    "print('Sample input: \\n', sample_x)\n",
    "print('Sample input: \\n', sample_y)"
   ]
  },
  {
   "cell_type": "markdown",
   "metadata": {},
   "source": [
    "Implementation of LSTM Cell from scratch"
   ]
  },
  {
   "cell_type": "code",
   "execution_count": 77,
   "metadata": {},
   "outputs": [],
   "source": [
    "class CustomLSTM(nn.Module):\n",
    "    def __init__(self, input_sz, hidden_sz, activation):\n",
    "        super().__init__()\n",
    "        self.input_sz = input_sz\n",
    "        self.hidden_size = hidden_sz\n",
    "        self.activation = activation\n",
    "        self.W = nn.Parameter(torch.Tensor(input_sz, hidden_sz * 4))\n",
    "        self.U = nn.Parameter(torch.Tensor(hidden_sz, hidden_sz * 4))\n",
    "        self.bias = nn.Parameter(torch.Tensor(hidden_sz * 4))\n",
    "        self.init_weights()\n",
    "                \n",
    "    def init_weights(self):\n",
    "        stdv = 1.0 / math.sqrt(self.hidden_size)\n",
    "        for weight in self.parameters():\n",
    "            weight.data.uniform_(-stdv, stdv)\n",
    "         \n",
    "    def forward(self, x, init_states=None):\n",
    "        \"\"\"Assumes x is of shape (batch, sequence, feature)\"\"\"\n",
    "        bs, seq_sz, _ = x.size()\n",
    "        hidden_seq = []\n",
    "        if init_states is None:\n",
    "            h_t, c_t = (torch.zeros(bs, self.hidden_size).to(x.device), \n",
    "                        torch.zeros(bs, self.hidden_size).to(x.device))\n",
    "        else:\n",
    "            h_t, c_t = init_states\n",
    "         \n",
    "        HS = self.hidden_size\n",
    "        for t in range(seq_sz):\n",
    "            x_t = x[:, t, :]\n",
    "            # batch the computations into a single matrix multiplication\n",
    "            gates = x_t @ self.W + h_t @ self.U + self.bias\n",
    "            i_t, f_t, g_t, o_t = (\n",
    "                torch.sigmoid(gates[:, :HS]), # input\n",
    "                torch.sigmoid(gates[:, HS:HS*2]), # forget\n",
    "                torch.tanh(gates[:, HS*2:HS*3]),\n",
    "                torch.sigmoid(gates[:, HS*3:]), # output\n",
    "            )\n",
    "            c_t = f_t * c_t + i_t * g_t\n",
    "            if self.activation == \"tanh\":\n",
    "                h_t = o_t * torch.tanh(c_t)\n",
    "            elif self.activation == \"snake\":\n",
    "                h_t = o_t * snake_func(c_t, a=1)\n",
    "            hidden_seq.append(h_t.unsqueeze(0))\n",
    "        hidden_seq = torch.cat(hidden_seq, dim=0)\n",
    "        # reshape from shape (sequence, batch, feature) to (batch, sequence, feature)\n",
    "        hidden_seq = hidden_seq.transpose(0, 1).contiguous()\n",
    "        return hidden_seq, (h_t, c_t)"
   ]
  },
  {
   "cell_type": "code",
   "execution_count": 25,
   "metadata": {},
   "outputs": [],
   "source": [
    "class Net(nn.Module):\n",
    "    def __init__(self, vocab_size, embedding_dim, hidden_dim, lstm_activation):\n",
    "        super().__init__()\n",
    "        self.embedding = nn.Embedding(vocab_size+1, embedding_dim)\n",
    "        self.lstm = CustomLSTM(embedding_dim, hidden_dim, activation=lstm_activation)\n",
    "        self.fc1 = nn.Linear(hidden_dim, 1)\n",
    "        \n",
    "    def forward(self, x):\n",
    "        x_ = self.embedding(x)\n",
    "        x_, (h_n, c_n) = self.lstm(x_)\n",
    "        x_ = (x_[:, -1, :])\n",
    "        x_ = self.fc1(x_)\n",
    "        return torch.sigmoid(x_)"
   ]
  },
  {
   "cell_type": "markdown",
   "metadata": {},
   "source": [
    "<h2>Training LSTM with usual tanh activation"
   ]
  },
  {
   "cell_type": "code",
   "execution_count": 16,
   "metadata": {},
   "outputs": [],
   "source": [
    "lr=0.001\n",
    "epochs=5\n",
    "\n",
    "criterion = nn.BCELoss()\n",
    "\n",
    "net_tanh = Net(vocab_size=len(vocab)+1, embedding_dim=32, hidden_dim=32, lstm_activation='tanh')\n",
    "net_tanh.to(device)\n",
    "\n",
    "optimizer = torch.optim.Adam(net_tanh.parameters(), lr=lr)"
   ]
  },
  {
   "cell_type": "code",
   "execution_count": 17,
   "metadata": {
    "scrolled": true
   },
   "outputs": [
    {
     "name": "stderr",
     "output_type": "stream",
     "text": [
      "\r",
      "  0%|                                                                                            | 0/5 [00:00<?, ?it/s]"
     ]
    },
    {
     "name": "stdout",
     "output_type": "stream",
     "text": [
      "Train acc = 0.6964057087898254\n",
      "Train Loss = 0.563822156485844\n"
     ]
    },
    {
     "name": "stderr",
     "output_type": "stream",
     "text": [
      "\r",
      " 20%|████████████████▌                                                                  | 1/5 [07:18<29:14, 438.65s/it]"
     ]
    },
    {
     "name": "stdout",
     "output_type": "stream",
     "text": [
      "Test acc = 0.7965561151504517\n",
      "Test Loss = 0.43902967961467043\n",
      "Train acc = 0.8286582231521606\n",
      "Train Loss = 0.39398368793848026\n"
     ]
    },
    {
     "name": "stderr",
     "output_type": "stream",
     "text": [
      "\r",
      " 40%|█████████████████████████████████▏                                                 | 2/5 [14:19<21:39, 433.25s/it]"
     ]
    },
    {
     "name": "stdout",
     "output_type": "stream",
     "text": [
      "Test acc = 0.8309151530265808\n",
      "Test Loss = 0.38626993455144826\n",
      "Train acc = 0.8512958288192749\n",
      "Train Loss = 0.351597265833067\n"
     ]
    },
    {
     "name": "stderr",
     "output_type": "stream",
     "text": [
      "\r",
      " 60%|█████████████████████████████████████████████████▊                                 | 3/5 [21:19<14:18, 429.42s/it]"
     ]
    },
    {
     "name": "stdout",
     "output_type": "stream",
     "text": [
      "Test acc = 0.84574294090271\n",
      "Test Loss = 0.3549868865888946\n",
      "Train acc = 0.8590283393859863\n",
      "Train Loss = 0.3330641219538633\n"
     ]
    },
    {
     "name": "stderr",
     "output_type": "stream",
     "text": [
      "\r",
      " 80%|██████████████████████████████████████████████████████████████████▍                | 4/5 [28:20<07:06, 426.83s/it]"
     ]
    },
    {
     "name": "stdout",
     "output_type": "stream",
     "text": [
      "Test acc = 0.8482939600944519\n",
      "Test Loss = 0.3440147135786864\n",
      "Train acc = 0.8687606453895569\n",
      "Train Loss = 0.31414787121651117\n"
     ]
    },
    {
     "name": "stderr",
     "output_type": "stream",
     "text": [
      "100%|███████████████████████████████████████████████████████████████████████████████████| 5/5 [35:22<00:00, 424.49s/it]"
     ]
    },
    {
     "name": "stdout",
     "output_type": "stream",
     "text": [
      "Test acc = 0.8525190949440002\n",
      "Test Loss = 0.33570862895980175\n"
     ]
    },
    {
     "name": "stderr",
     "output_type": "stream",
     "text": [
      "\n"
     ]
    }
   ],
   "source": [
    "train_accs_tanh = []\n",
    "test_accs_tanh = []\n",
    "for epoch in tqdm(range(epochs)):\n",
    "\n",
    "    running_loss = 0.\n",
    "    num_steps = 0\n",
    "    correct = 0\n",
    "    for i, (datapoints, labels) in enumerate(train_loader):\n",
    "        \n",
    "        optimizer.zero_grad()\n",
    "        \n",
    "        preds = net_tanh(datapoints.long().to(device))\n",
    "        loss = criterion(preds.squeeze(), labels.float().to(device))\n",
    "        loss.backward()\n",
    "        optimizer.step()\n",
    "\n",
    "        running_loss += loss.item()\n",
    "        num_steps += 1\n",
    "        \n",
    "        correct += torch.sum(torch.where(preds>=0.5, 1., 0.).squeeze() == labels.cuda())\n",
    "    \n",
    "    train_acc = correct/(num_steps*train_loader.batch_size)\n",
    "\n",
    "    print(f\"Train acc = {train_acc}\")\n",
    "    print(f\"Train Loss = {running_loss/num_steps}\")\n",
    "\n",
    "    train_accs_tanh.append(train_acc)\n",
    "\n",
    "    running_loss = 0.\n",
    "    num_steps = 0\n",
    "    correct = 0\n",
    "    for i, (datapoints, labels) in enumerate(test_loader):\n",
    "        \n",
    "        with torch.no_grad():\n",
    "        \n",
    "            preds = net_tanh(datapoints.long().to(device))\n",
    "            loss = criterion(preds.squeeze(), labels.float().to(device))\n",
    "\n",
    "        running_loss += loss.item()\n",
    "        num_steps += 1\n",
    "        \n",
    "        correct += torch.sum(torch.where(preds>=0.5, 1., 0.).squeeze() == labels.cuda())\n",
    "\n",
    "    test_acc = correct/(num_steps*test_loader.batch_size)\n",
    "\n",
    "    print(f\"Test acc = {test_acc}\")\n",
    "    print(f\"Test Loss = {running_loss/num_steps}\")\n",
    "\n",
    "    test_accs_tanh.append(test_acc)"
   ]
  },
  {
   "cell_type": "code",
   "execution_count": 18,
   "metadata": {},
   "outputs": [
    {
     "data": {
      "text/plain": [
       "<matplotlib.legend.Legend at 0x111a4045a90>"
      ]
     },
     "execution_count": 18,
     "metadata": {},
     "output_type": "execute_result"
    },
    {
     "data": {
      "image/png": "[encoded data removed]",
      "text/plain": [
       "<Figure size 432x288 with 1 Axes>"
      ]
     },
     "metadata": {
      "needs_background": "light"
     },
     "output_type": "display_data"
    }
   ],
   "source": [
    "plt.plot(range(1, epochs+1), train_accs_tanh, label=\"Train accuracy\")\n",
    "plt.plot(range(1, epochs+1), test_accs_tanh, label=\"Test accuracy\")\n",
    "plt.xlabel(\"Epoch\")\n",
    "plt.ylabel(\"Accuracy\")\n",
    "plt.xticks(range(1, epochs+1))\n",
    "plt.legend()"
   ]
  },
  {
   "cell_type": "markdown",
   "metadata": {},
   "source": [
    "<h2>Training LSTM with snake activation"
   ]
  },
  {
   "cell_type": "code",
   "execution_count": 26,
   "metadata": {},
   "outputs": [],
   "source": [
    "lr=0.001\n",
    "epochs=20\n",
    "\n",
    "criterion = nn.BCELoss()\n",
    "\n",
    "net_snake = Net(vocab_size=len(vocab)+1, embedding_dim=32, hidden_dim=32, lstm_activation='snake')\n",
    "net_snake.to(device)\n",
    "\n",
    "optimizer = torch.optim.Adam(net_snake.parameters(), lr=lr)"
   ]
  },
  {
   "cell_type": "code",
   "execution_count": 39,
   "metadata": {
    "scrolled": true
   },
   "outputs": [
    {
     "name": "stderr",
     "output_type": "stream",
     "text": [
      "\r",
      "  0%|                                                                                            | 0/5 [00:00<?, ?it/s]"
     ]
    },
    {
     "name": "stdout",
     "output_type": "stream",
     "text": [
      "Train acc = 0.840070366859436\n",
      "Train Loss = 0.3737504724095299\n"
     ]
    },
    {
     "name": "stderr",
     "output_type": "stream",
     "text": [
      "\r",
      " 20%|████████████████▌                                                                  | 1/5 [08:35<34:21, 515.43s/it]"
     ]
    },
    {
     "name": "stdout",
     "output_type": "stream",
     "text": [
      "Test acc = 0.8395248651504517\n",
      "Test Loss = 0.37793715564267977\n",
      "Train acc = 0.8472162485122681\n",
      "Train Loss = 0.35833915249276077\n"
     ]
    },
    {
     "name": "stderr",
     "output_type": "stream",
     "text": [
      "\r",
      " 40%|█████████████████████████████████▏                                                 | 2/5 [17:05<25:41, 513.73s/it]"
     ]
    },
    {
     "name": "stdout",
     "output_type": "stream",
     "text": [
      "Test acc = 0.8464604616165161\n",
      "Test Loss = 0.3630633219620403\n",
      "Train acc = 0.853348970413208\n",
      "Train Loss = 0.34493053282385394\n"
     ]
    },
    {
     "name": "stderr",
     "output_type": "stream",
     "text": [
      "\r",
      " 60%|█████████████████████████████████████████████████▊                                 | 3/5 [25:49<17:13, 516.79s/it]"
     ]
    },
    {
     "name": "stdout",
     "output_type": "stream",
     "text": [
      "Test acc = 0.8492506146430969\n",
      "Test Loss = 0.3666110199172886\n",
      "Train acc = 0.8536955714225769\n",
      "Train Loss = 0.3466567388980462\n"
     ]
    },
    {
     "name": "stderr",
     "output_type": "stream",
     "text": [
      "\r",
      " 80%|██████████████████████████████████████████████████████████████████▍                | 4/5 [34:44<08:42, 522.37s/it]"
     ]
    },
    {
     "name": "stdout",
     "output_type": "stream",
     "text": [
      "Test acc = 0.8459023833274841\n",
      "Test Loss = 0.362821561341383\n",
      "Train acc = 0.8591883182525635\n",
      "Train Loss = 0.33672025296264946\n"
     ]
    },
    {
     "name": "stderr",
     "output_type": "stream",
     "text": [
      "100%|███████████████████████████████████████████████████████████████████████████████████| 5/5 [44:00<00:00, 528.18s/it]"
     ]
    },
    {
     "name": "stdout",
     "output_type": "stream",
     "text": [
      "Test acc = 0.8460618257522583\n",
      "Test Loss = 0.35745270595866807\n"
     ]
    },
    {
     "name": "stderr",
     "output_type": "stream",
     "text": [
      "\n"
     ]
    }
   ],
   "source": [
    "train_accs_snake = []\n",
    "test_accs_snake = []\n",
    "for epoch in tqdm(range(epochs)):\n",
    "\n",
    "    running_loss = 0.\n",
    "    num_steps = 0\n",
    "    correct = 0\n",
    "    for i, (datapoints, labels) in enumerate(train_loader):\n",
    "        \n",
    "        optimizer.zero_grad()\n",
    "        \n",
    "        preds = net_snake(datapoints.long().to(device))\n",
    "        loss = criterion(preds.squeeze(), labels.float().to(device))\n",
    "        loss.backward()\n",
    "        optimizer.step()\n",
    "\n",
    "        running_loss += loss.item()\n",
    "        num_steps += 1\n",
    "        \n",
    "        correct += torch.sum(torch.where(preds>=0.5, 1., 0.).squeeze() == labels.cuda())\n",
    "    \n",
    "    train_acc = correct/(num_steps*train_loader.batch_size)\n",
    "\n",
    "    print(f\"Train acc = {train_acc}\")\n",
    "    print(f\"Train Loss = {running_loss/num_steps}\")\n",
    "\n",
    "    train_accs_snake.append(train_acc)\n",
    "\n",
    "    running_loss = 0.\n",
    "    num_steps = 0\n",
    "    correct = 0\n",
    "    for i, (datapoints, labels) in enumerate(test_loader):\n",
    "        \n",
    "        with torch.no_grad():\n",
    "        \n",
    "            preds = net_snake(datapoints.long().to(device))\n",
    "            loss = criterion(preds.squeeze(), labels.float().to(device))\n",
    "\n",
    "        running_loss += loss.item()\n",
    "        num_steps += 1\n",
    "        \n",
    "        correct += torch.sum(torch.where(preds>=0.5, 1., 0.).squeeze() == labels.cuda())\n",
    "\n",
    "    test_acc = correct/(num_steps*test_loader.batch_size)\n",
    "\n",
    "    print(f\"Test acc = {test_acc}\")\n",
    "    print(f\"Test Loss = {running_loss/num_steps}\")\n",
    "\n",
    "    test_accs_snake.append(test_acc)"
   ]
  },
  {
   "cell_type": "code",
   "execution_count": 42,
   "metadata": {},
   "outputs": [
    {
     "data": {
      "text/plain": [
       "<matplotlib.legend.Legend at 0x1122de3e9a0>"
      ]
     },
     "execution_count": 42,
     "metadata": {},
     "output_type": "execute_result"
    },
    {
     "data": {
      "image/png": "[encoded data removed]",
      "text/plain": [
       "<Figure size 432x288 with 1 Axes>"
      ]
     },
     "metadata": {
      "needs_background": "light"
     },
     "output_type": "display_data"
    }
   ],
   "source": [
    "plt.plot(range(1, epochs+1), train_accs_snake, label=\"Train accuracy\")\n",
    "plt.plot(range(1, epochs+1), test_accs_snake, label=\"Test accuracy\")\n",
    "plt.xlabel(\"Epoch\")\n",
    "plt.ylabel(\"Accuracy\")\n",
    "plt.xticks(range(1, epochs+1))\n",
    "plt.legend()"
   ]
  },
  {
   "cell_type": "markdown",
   "metadata": {},
   "source": [
    "Comparison of AUC curves"
   ]
  },
  {
   "cell_type": "code",
   "execution_count": 78,
   "metadata": {},
   "outputs": [
    {
     "data": {
      "image/png": "[encoded data removed]",
      "text/plain": [
       "<Figure size 432x288 with 1 Axes>"
      ]
     },
     "metadata": {
      "needs_background": "light"
     },
     "output_type": "display_data"
    }
   ],
   "source": [
    "with torch.no_grad():\n",
    "    preds_test_tanh = net_tanh(torch.Tensor(X_test_pad).long().to(device))\n",
    "    preds_test_snake = net_snake(torch.Tensor(X_test_pad).long().to(device))\n",
    "    \n",
    "fpr_tanh, tpr_tanh, _ = metrics.roc_curve(y_test,  preds_test_tanh.cpu().numpy())\n",
    "fpr_snake, tpr_snake, _ = metrics.roc_curve(y_test,  preds_test_snake.cpu().numpy())\n",
    "\n",
    "auc_tanh = metrics.roc_auc_score(y_test, preds_test_tanh.cpu().numpy())\n",
    "auc_snake = metrics.roc_auc_score(y_test, preds_test_snake.cpu().numpy())\n",
    "\n",
    "plt.plot(fpr_tanh, tpr_tanh, label=\"tanh LSTM, AUC = \"+str(auc_tanh))\n",
    "plt.plot(fpr_snake, tpr_snake, label=\"snake LSTM, AUC = \"+str(auc_snake))\n",
    "plt.ylabel(\"True Positive Rate\")\n",
    "plt.xlabel(\"False Positive Rate\")\n",
    "plt.legend(loc=4)\n",
    "plt.show()"
   ]
  },
  {
   "cell_type": "code",
   "execution_count": null,
   "metadata": {},
   "outputs": [],
   "source": []
  }
 ],
 "metadata": {
  "kernelspec": {
   "display_name": "Python 3",
   "language": "python",
   "name": "python3"
  },
  "language_info": {
   "codemirror_mode": {
    "name": "ipython",
    "version": 3
   },
   "file_extension": ".py",
   "mimetype": "text/x-python",
   "name": "python",
   "nbconvert_exporter": "python",
   "pygments_lexer": "ipython3",
   "version": "3.8.6"
  }
 },
 "nbformat": 4,
 "nbformat_minor": 4
}